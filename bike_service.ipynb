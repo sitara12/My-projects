{
  "cells": [
    {
      "cell_type": "markdown",
      "metadata": {
        "id": "view-in-github",
        "colab_type": "text"
      },
      "source": [
        "<a href=\"https://colab.research.google.com/github/sitara12/My-projects/blob/main/bike_service.ipynb\" target=\"_parent\"><img src=\"https://colab.research.google.com/assets/colab-badge.svg\" alt=\"Open In Colab\"/></a>"
      ]
    },
    {
      "cell_type": "code",
      "execution_count": null,
      "metadata": {
        "colab": {
          "background_save": true,
          "base_uri": "https://localhost:8080/"
        },
        "id": "ekwo6QBrN2my",
        "outputId": "ad992859-a46a-4929-bfb2-97c914e7e438"
      },
      "outputs": [
        {
          "name": "stdout",
          "output_type": "stream",
          "text": [
            "Chatbot: I'm sorry, I didn't understand that. Can you please rephrase?\n"
          ]
        }
      ],
      "source": [
        "\n",
        "import re\n",
        "import random\n",
        "\n",
        "class BikeServiceChatbot:\n",
        "    def __init__(self):\n",
        "        self.appointments = {}\n",
        "\n",
        "    def preprocess_text(self, text):\n",
        "        text = text.lower()\n",
        "        text = re.sub(r'[^\\w\\s]', '', text)  # Remove punctuation\n",
        "        return text\n",
        "\n",
        "    def handle_intent(self, intent, entities):\n",
        "        if intent == 'greeting':\n",
        "            return \"Hello! How can I assist you today?\"\n",
        "\n",
        "        elif intent == 'service_inquiry':\n",
        "            return \"Sure, I can help you with that. What type of service do you need?\"\n",
        "\n",
        "        elif intent == 'appointment_booking':\n",
        "            if 'bike_model' in entities and 'service_type' in entities and 'appointment_date' in entities:\n",
        "                bike_model = entities['bike_model']\n",
        "                service_type = entities['service_type']\n",
        "                appointment_date = entities['appointment_date']\n",
        "\n",
        "                appointment_id = random.randint(1000, 9999)\n",
        "                self.appointments[appointment_id] = {\n",
        "                    'bike_model': bike_model,\n",
        "                    'service_type': service_type,\n",
        "                    'appointment_date': appointment_date\n",
        "                }\n",
        "                return f\"Your appointment has been booked! Your appointment ID is {appointment_id}.\"\n",
        "\n",
        "            else:\n",
        "                return \"I'm sorry, I need more information to book your appointment. Please provide your bike model, service type, and appointment date.\"\n",
        "\n",
        "        elif intent == 'appointment_cancellation':\n",
        "            if 'appointment_id' in entities:\n",
        "                appointment_id = entities['appointment_id']\n",
        "                if appointment_id in self.appointments:\n",
        "                    del self.appointments[appointment_id]\n",
        "                    return f\"Your appointment with ID {appointment_id} has been canceled.\"\n",
        "\n",
        "                else:\n",
        "                    return f\"I couldn't find any appointment with ID {appointment_id}. Please double-check the ID.\"\n",
        "\n",
        "            else:\n",
        "                return \"To cancel an appointment, I need your appointment ID.\"\n",
        "\n",
        "        else:\n",
        "            return \"I'm sorry, I didn't understand that. Can you please rephrase?\"\n",
        "\n",
        "    def respond(self, user_input, context=None):\n",
        "        user_input = self.preprocess_text(user_input)\n",
        "\n",
        "        # Placeholder for intent recognition and entity extraction\n",
        "        intent = 'dummy_intent'\n",
        "        entities = {'dummy_entity': 'dummy_value'}\n",
        "\n",
        "        if context is None:\n",
        "            context = {}\n",
        "\n",
        "        if 'waiting_for' in context:\n",
        "            if context['waiting_for'] == 'bike_model':\n",
        "                entities['bike_model'] = user_input\n",
        "            elif context['waiting_for'] == 'service_type':\n",
        "                entities['service_type'] = user_input\n",
        "            elif context['waiting_for'] == 'appointment_date':\n",
        "                entities['appointment_date'] = user_input\n",
        "            context.pop('waiting_for')\n",
        "\n",
        "        if intent == 'appointment_booking' and not all(entity in entities for entity in ['bike_model', 'service_type', 'appointment_date']):\n",
        "            context['waiting_for'] = ['bike_model', 'service_type', 'appointment_date'][next(i for i, e in enumerate(['bike_model', 'service_type', 'appointment_date']) if e not in entities)]\n",
        "\n",
        "        response = self.handle_intent(intent, entities)\n",
        "        return response, context\n",
        "\n",
        "chatbot = BikeServiceChatbot()\n",
        "context = None\n",
        "\n",
        "try:\n",
        "    while True:\n",
        "        user_input = input(\"You: \")\n",
        "        if user_input.lower() == 'exit':\n",
        "            print(\"Chatbot: Goodbye!\")\n",
        "            break\n",
        "\n",
        "        bot_response, context = chatbot.respond(user_input, context)\n",
        "        print(\"Chatbot:\", bot_response)\n",
        "\n",
        "except KeyboardInterrupt:\n",
        "    print(\"\\nChatbot: Exiting gracefully. Goodbye!\")\n"
      ]
    },
    {
      "cell_type": "code",
      "source": [],
      "metadata": {
        "id": "ayD3ZwhgtAGH"
      },
      "execution_count": null,
      "outputs": []
    },
    {
      "cell_type": "code",
      "execution_count": null,
      "metadata": {
        "id": "WKwLfsUUXep0"
      },
      "outputs": [],
      "source": []
    }
  ],
  "metadata": {
    "colab": {
      "provenance": [],
      "authorship_tag": "ABX9TyPbPLPho2TFFjCrqxrpXZxk",
      "include_colab_link": true
    },
    "kernelspec": {
      "display_name": "Python 3",
      "name": "python3"
    },
    "language_info": {
      "name": "python"
    }
  },
  "nbformat": 4,
  "nbformat_minor": 0
}