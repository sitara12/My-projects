{
  "nbformat": 4,
  "nbformat_minor": 0,
  "metadata": {
    "colab": {
      "provenance": [],
      "authorship_tag": "ABX9TyMPgNJFCBxgBchbYe5oQXYP",
      "include_colab_link": true
    },
    "kernelspec": {
      "name": "python3",
      "display_name": "Python 3"
    },
    "language_info": {
      "name": "python"
    }
  },
  "cells": [
    {
      "cell_type": "markdown",
      "metadata": {
        "id": "view-in-github",
        "colab_type": "text"
      },
      "source": [
        "<a href=\"https://colab.research.google.com/github/sitara12/My-projects/blob/main/supervised_ml_algos_(f1).ipynb\" target=\"_parent\"><img src=\"https://colab.research.google.com/assets/colab-badge.svg\" alt=\"Open In Colab\"/></a>"
      ]
    },
    {
      "cell_type": "code",
      "execution_count": null,
      "metadata": {
        "colab": {
          "base_uri": "https://localhost:8080/"
        },
        "id": "RDBV19aQVl_Q",
        "outputId": "d18a6510-ee63-4299-d98a-c6e63a963340"
      },
      "outputs": [
        {
          "output_type": "stream",
          "name": "stdout",
          "text": [
            "Logistic regression accuracy: 1.0\n",
            "Logistic regression precision: 1.0\n",
            "Logistic regression F1 Score: 1.0\n",
            "KNN accuracy: 1.0\n",
            "KNN precision: 1.0\n",
            "KNN F1 Score: 1.0\n",
            "Gaussian Naive Bayes accuracy: 0.9777777777777777\n",
            "Gaussian Naive Bayes precision: 0.9793650793650793\n",
            "Gaussian Naive Bayes F1 Score: 0.9777448559670783\n",
            "Decision Tree accuracy: 1.0\n",
            "Decision Tree precision: 1.0\n",
            "Decision Tree F1 Score: 1.0\n",
            "Random Forest accuracy: 1.0\n",
            "Random Forest precision: 1.0\n",
            "Random Forest F1 Score: 1.0\n"
          ]
        }
      ],
      "source": [
        "import numpy as np\n",
        "import pandas as pd\n",
        "from sklearn.datasets import load_iris\n",
        "from sklearn.model_selection import train_test_split\n",
        "from sklearn.linear_model import LogisticRegression\n",
        "from sklearn.metrics import accuracy_score, precision_score, f1_score\n",
        "from sklearn.preprocessing import StandardScaler, LabelEncoder\n",
        "from sklearn.neighbors import KNeighborsClassifier\n",
        "from sklearn.naive_bayes import GaussianNB\n",
        "from sklearn.tree import DecisionTreeClassifier\n",
        "from sklearn.ensemble import RandomForestClassifier\n",
        "\n",
        "df = pd.read_csv(\"IRIS.csv\")\n",
        "# Define the column names\n",
        "columns = ['sepal_length', 'sepal_width', 'Petal_length', 'Petal_width', 'species']\n",
        "df.columns = columns\n",
        "\n",
        "# Convert the 'species' column to numerical form using Label Encoding\n",
        "label_encoder = LabelEncoder()\n",
        "df['species'] = label_encoder.fit_transform(df['species'])\n",
        "\n",
        "# Separating the target\n",
        "X = df.drop('species', axis=1)\n",
        "y = df['species']\n",
        "\n",
        "# Splitting the data into training and testing\n",
        "X_train, X_test, y_train, y_test = train_test_split(X, y, test_size=0.3, random_state=42)\n",
        "\n",
        "# Preprocessing the data\n",
        "scaler = StandardScaler()\n",
        "X_train_scaled = scaler.fit_transform(X_train)\n",
        "X_test_scaled = scaler.transform(X_test)\n",
        "\n",
        "# Creating a logistic regression model and fitting the data\n",
        "logreg_model = LogisticRegression()\n",
        "logreg_model.fit(X_train_scaled, y_train)\n",
        "y_pred_logreg = logreg_model.predict(X_test_scaled)\n",
        "accuracy_logreg = accuracy_score(y_test, y_pred_logreg)\n",
        "precision_logreg = precision_score(y_test, y_pred_logreg, average='weighted')\n",
        "f1_logreg = f1_score(y_test, y_pred_logreg, average='weighted')\n",
        "print(\"Logistic regression accuracy:\", accuracy_logreg)\n",
        "print(\"Logistic regression precision:\", precision_logreg)\n",
        "print(\"Logistic regression F1 Score:\", f1_logreg)\n",
        "\n",
        "# Creating and training the KNN classifier\n",
        "k = 3\n",
        "knn_classifier = KNeighborsClassifier(n_neighbors=k)\n",
        "knn_classifier.fit(X_train_scaled, y_train)\n",
        "y_pred_knn = knn_classifier.predict(X_test_scaled)\n",
        "accuracy_knn = accuracy_score(y_test, y_pred_knn)\n",
        "precision_knn = precision_score(y_test, y_pred_knn, average='weighted')\n",
        "f1_knn = f1_score(y_test, y_pred_knn, average='weighted')\n",
        "print(\"KNN accuracy:\", accuracy_knn)\n",
        "print(\"KNN precision:\", precision_knn)\n",
        "print(\"KNN F1 Score:\", f1_knn)\n",
        "\n",
        "# Creating a Naive Bayes classifier\n",
        "nb_model = GaussianNB()\n",
        "nb_model.fit(X_train, y_train)\n",
        "y_pred_nb = nb_model.predict(X_test)\n",
        "accuracy_nb = accuracy_score(y_test, y_pred_nb)\n",
        "precision_nb = precision_score(y_test, y_pred_nb, average='weighted')\n",
        "f1_nb = f1_score(y_test, y_pred_nb, average='weighted')\n",
        "print(\"Gaussian Naive Bayes accuracy:\", accuracy_nb)\n",
        "print(\"Gaussian Naive Bayes precision:\", precision_nb)\n",
        "print(\"Gaussian Naive Bayes F1 Score:\", f1_nb)\n",
        "\n",
        "# Creating a Decision Tree classifier\n",
        "dt_model = DecisionTreeClassifier()\n",
        "dt_model.fit(X_train, y_train)\n",
        "y_pred_dt = dt_model.predict(X_test)\n",
        "accuracy_dt = accuracy_score(y_test, y_pred_dt)\n",
        "precision_dt = precision_score(y_test, y_pred_dt, average='weighted')\n",
        "f1_dt = f1_score(y_test, y_pred_dt, average='weighted')\n",
        "print(\"Decision Tree accuracy:\", accuracy_dt)\n",
        "print(\"Decision Tree precision:\", precision_dt)\n",
        "print(\"Decision Tree F1 Score:\", f1_dt)\n",
        "\n",
        "# Creating a Random Forest classifier\n",
        "rf_model = RandomForestClassifier(n_estimators=50, random_state=42)\n",
        "rf_model.fit(X_train, y_train)\n",
        "y_pred_rf = rf_model.predict(X_test)\n",
        "accuracy_rf = accuracy_score(y_test, y_pred_rf)\n",
        "precision_rf = precision_score(y_test, y_pred_rf, average='weighted')\n",
        "f1_rf = f1_score(y_test, y_pred_rf, average='weighted')\n",
        "print(\"Random Forest accuracy:\", accuracy_rf)\n",
        "print(\"Random Forest precision:\", precision_rf)\n",
        "print(\"Random Forest F1 Score:\", f1_rf)\n"
      ]
    }
  ]
}