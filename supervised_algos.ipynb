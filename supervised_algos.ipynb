{
  "nbformat": 4,
  "nbformat_minor": 0,
  "metadata": {
    "colab": {
      "provenance": [],
      "authorship_tag": "ABX9TyP1YyyKxAGTNp3sTD1sEfjm",
      "include_colab_link": true
    },
    "kernelspec": {
      "name": "python3",
      "display_name": "Python 3"
    },
    "language_info": {
      "name": "python"
    }
  },
  "cells": [
    {
      "cell_type": "markdown",
      "metadata": {
        "id": "view-in-github",
        "colab_type": "text"
      },
      "source": [
        "<a href=\"https://colab.research.google.com/github/sitara12/My-projects/blob/main/supervised_algos.ipynb\" target=\"_parent\"><img src=\"https://colab.research.google.com/assets/colab-badge.svg\" alt=\"Open In Colab\"/></a>"
      ]
    },
    {
      "cell_type": "code",
      "execution_count": null,
      "metadata": {
        "colab": {
          "base_uri": "https://localhost:8080/"
        },
        "id": "F2IBW0EcIMRR",
        "outputId": "f1a8a668-c325-4157-c064-74e3ce56caa6"
      },
      "outputs": [
        {
          "output_type": "stream",
          "name": "stdout",
          "text": [
            "Logistic Regression Accuracy: 1.0\n",
            "K-Nearest Neighbors Accuracy: 1.0\n",
            "Naive Bayes Accuracy: 1.0\n",
            "Decision Tree Accuracy: 1.0\n",
            "Random Forest Accuracy: 1.0\n"
          ]
        }
      ],
      "source": [
        "import numpy as np\n",
        "import pandas as pd\n",
        "from sklearn.datasets import load_iris\n",
        "from sklearn.model_selection import train_test_split\n",
        "from sklearn.linear_model import LogisticRegression\n",
        "from sklearn.metrics import accuracy_score\n",
        "from sklearn.preprocessing import StandardScaler\n",
        "from sklearn.neighbors import KNeighborsClassifier\n",
        "from sklearn.naive_bayes import GaussianNB\n",
        "from sklearn.tree import DecisionTreeClassifier\n",
        "from sklearn.ensemble import RandomForestClassifier\n",
        "\n",
        "# Load the Iris dataset\n",
        "df = pd.read_csv(\"/content/IRIS.csv\")\n",
        "# Define the column names\n",
        "columns = ['sepal_length', 'sepal_width', 'petal_length', 'petal_width', 'species']\n",
        "df.columns = columns\n",
        "# Separate the target\n",
        "X = df.drop('species', axis=1)\n",
        "y = df['species']\n",
        "# Splitting the data into training and testing\n",
        "X_train, X_test, y_train, y_test = train_test_split(X, y, test_size=0.2, random_state=42)\n",
        "# Preprocessing the data\n",
        "scaler = StandardScaler()\n",
        "X_train_scaled = scaler.fit_transform(X_train)\n",
        "X_test_scaled = scaler.transform(X_test)\n",
        "\n",
        "# Creating a logistic regression model and training it on the data\n",
        "logistic_model = LogisticRegression()\n",
        "logistic_model.fit(X_train_scaled, y_train)\n",
        "\n",
        "# Making predictions using the logistic regression model\n",
        "y_pred_logistic = logistic_model.predict(X_test_scaled)\n",
        "\n",
        "# Evaluating the performance of the logistic regression model\n",
        "accuracy_logistic = accuracy_score(y_test, y_pred_logistic)\n",
        "print(\"Logistic Regression Accuracy:\", accuracy_logistic)\n",
        "\n",
        "# Creating and training the KNN classifier\n",
        "k = 3\n",
        "knn_classifier = KNeighborsClassifier(n_neighbors=k)\n",
        "knn_classifier.fit(X_train_scaled, y_train)\n",
        "\n",
        "# Making predictions using the KNN classifier\n",
        "y_pred_knn = knn_classifier.predict(X_test_scaled)\n",
        "\n",
        "# Evaluating the performance of the KNN classifier\n",
        "accuracy_knn = accuracy_score(y_test, y_pred_knn)\n",
        "print(\"K-Nearest Neighbors Accuracy:\", accuracy_knn)\n",
        "\n",
        "# Creating a Naive Bayes classifier\n",
        "naive_bayes_model = GaussianNB()\n",
        "naive_bayes_model.fit(X_train_scaled, y_train)\n",
        "\n",
        "# Making predictions using the Naive Bayes classifier\n",
        "y_pred_nb = naive_bayes_model.predict(X_test_scaled)\n",
        "\n",
        "# Evaluating the performance of the Naive Bayes classifier\n",
        "accuracy_nb = accuracy_score(y_test, y_pred_nb)\n",
        "print(\"Naive Bayes Accuracy:\", accuracy_nb)\n",
        "\n",
        "# Creating a Decision Tree classifier\n",
        "decision_tree_model = DecisionTreeClassifier()\n",
        "decision_tree_model.fit(X_train_scaled, y_train)\n",
        "\n",
        "# Making predictions using the Decision Tree classifier\n",
        "y_pred_dt = decision_tree_model.predict(X_test_scaled)\n",
        "\n",
        "# Evaluating the performance of the Decision Tree classifier\n",
        "accuracy_dt = accuracy_score(y_test, y_pred_dt)\n",
        "print(\"Decision Tree Accuracy:\", accuracy_dt)\n",
        "\n",
        "# Creating a Random Forest classifier\n",
        "random_forest_model = RandomForestClassifier(n_estimators=200, random_state=42)\n",
        "random_forest_model.fit(X_train_scaled, y_train)\n",
        "\n",
        "# Making predictions using the Random Forest classifier\n",
        "y_pred_rf = random_forest_model.predict(X_test_scaled)\n",
        "\n",
        "# Evaluating the performance of the Random Forest classifier\n",
        "accuracy_rf = accuracy_score(y_test, y_pred_rf)\n",
        "print(\"Random Forest Accuracy:\", accuracy_rf)\n"
      ]
    }
  ]
}