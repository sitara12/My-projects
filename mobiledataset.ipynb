{
  "nbformat": 4,
  "nbformat_minor": 0,
  "metadata": {
    "colab": {
      "provenance": [],
      "authorship_tag": "ABX9TyPEaBHw4b/eksGwrUJH0C4N",
      "include_colab_link": true
    },
    "kernelspec": {
      "name": "python3",
      "display_name": "Python 3"
    },
    "language_info": {
      "name": "python"
    }
  },
  "cells": [
    {
      "cell_type": "markdown",
      "metadata": {
        "id": "view-in-github",
        "colab_type": "text"
      },
      "source": [
        "<a href=\"https://colab.research.google.com/github/sitara12/My-projects/blob/main/mobiledataset.ipynb\" target=\"_parent\"><img src=\"https://colab.research.google.com/assets/colab-badge.svg\" alt=\"Open In Colab\"/></a>"
      ]
    },
    {
      "cell_type": "code",
      "execution_count": null,
      "metadata": {
        "id": "ZPVJwVICdNn6",
        "outputId": "393a854d-2331-4133-e86a-8a81597d1832",
        "colab": {
          "base_uri": "https://localhost:8080/"
        }
      },
      "outputs": [
        {
          "output_type": "stream",
          "name": "stdout",
          "text": [
            "Requirement already satisfied: xlsxwriter in /usr/local/lib/python3.10/dist-packages (3.1.2)\n"
          ]
        },
        {
          "output_type": "stream",
          "name": "stderr",
          "text": [
            "/usr/local/lib/python3.10/dist-packages/sklearn/cluster/_kmeans.py:870: FutureWarning: The default value of `n_init` will change from 10 to 'auto' in 1.4. Set the value of `n_init` explicitly to suppress the warning\n",
            "  warnings.warn(\n"
          ]
        },
        {
          "output_type": "stream",
          "name": "stdout",
          "text": [
            "      Member_number                          item  Cluster\n",
            "0              3746        QT82 Bluetooth Earbuds        0\n",
            "954            4116       customized mobile cover        0\n",
            "953            4115         WIWU X10 Type-C Cable        0\n",
            "952            4115            OPPO Mobile Covers        0\n",
            "951            4114         WIWU X10 Type-C Cable        0\n",
            "...             ...                           ...      ...\n",
            "3869           2637  Samsung Galaxy Mobile Covers        4\n",
            "3870           3394         WIWU X10 Type-C Cable        4\n",
            "3871           2656         WIWU X10 Type-C Cable        4\n",
            "3863           3401         RedDio EDX Headphones        4\n",
            "3651           2719            OPPO Mobile Covers        4\n",
            "\n",
            "[7304 rows x 3 columns]\n"
          ]
        },
        {
          "output_type": "stream",
          "name": "stderr",
          "text": [
            "<ipython-input-29-1c2113e31e7b>:43: FutureWarning: save is not part of the public API, usage can give unexpected results and will be removed in a future version\n",
            "  writer.save()\n"
          ]
        }
      ],
      "source": [
        "import numpy as np\n",
        "import matplotlib.pyplot as plt\n",
        "import seaborn as sns\n",
        "import pandas as pd\n",
        "from sklearn.cluster import KMeans\n",
        "import xlsxwriter\n",
        "# Install xlsxwriter\n",
        "!pip install xlsxwriter\n",
        "\n",
        "sns.set()\n",
        "\n",
        "data = pd.read_excel(\"/content/Mobile.xlsx\")\n",
        "\n",
        "# Extract the relevant features for clustering\n",
        "encoded_features = pd.get_dummies(data['item'], prefix='item')\n",
        "features = pd.concat([data['Member_number'], encoded_features], axis=1)\n",
        "\n",
        "# Perform k-means clustering\n",
        "k = 5\n",
        "kmeans = KMeans(n_clusters=k)\n",
        "kmeans.fit(features)\n",
        "cluster_labels = kmeans.labels_\n",
        "\n",
        "data['Cluster'] = cluster_labels\n",
        "\n",
        "# Sort the data based on cluster labels\n",
        "data_sorted = data.sort_values('Cluster')\n",
        "\n",
        "# Print the sorted data\n",
        "print(data_sorted)\n",
        "\n",
        "# Create a new DataFrame from the sorted data\n",
        "df = pd.DataFrame(data_sorted, columns=['Member_number', 'item', 'Cluster'])\n",
        "\n",
        "\n",
        "# Create a new Excel writer\n",
        "writer = pd.ExcelWriter('Mobile23.xlsx', engine='xlsxwriter')\n",
        "\n",
        "# Write the DataFrame to the Excel file\n",
        "df.to_excel(writer, sheet_name='Sorted Data', index=False)\n",
        "\n",
        "# Save the Excel file\n",
        "writer.save()\n"
      ]
    }
  ]
}